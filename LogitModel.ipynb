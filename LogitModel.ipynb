{
  "nbformat": 4,
  "nbformat_minor": 0,
  "metadata": {
    "colab": {
      "provenance": [],
      "authorship_tag": "ABX9TyPr4N4EW/LV27SIoTafq2hd"
    },
    "kernelspec": {
      "name": "python3",
      "display_name": "Python 3"
    },
    "language_info": {
      "name": "python"
    }
  },
  "cells": [
    {
      "cell_type": "markdown",
      "source": [
        "#### The Logit Model"
      ],
      "metadata": {
        "id": "XaJJ4XDth4k6"
      }
    },
    {
      "cell_type": "code",
      "source": [
        "# Import numpy library for numerical calculations\n",
        "import numpy as np"
      ],
      "metadata": {
        "id": "0meVbR6aq-Rr"
      },
      "execution_count": null,
      "outputs": []
    },
    {
      "cell_type": "code",
      "source": [
        "# Define the number of zones and destinations\n",
        "n_zones = 4\n",
        "n_dests = 3"
      ],
      "metadata": {
        "id": "S1s5cRzRrDq7"
      },
      "execution_count": null,
      "outputs": []
    },
    {
      "cell_type": "code",
      "source": [
        "# Define the population and household data for each zone\n",
        "pop = np.array([1000, 800, 600, 400]) # Population\n",
        "hh = np.array([200, 150, 120, 80]) # Households\n",
        "\n",
        "# Define the number of trips to each destination for each zone\n",
        "trips = np.array([[50, 30, 20],\n",
        "                  [40, 25, 15],\n",
        "                  [30, 20, 10],\n",
        "                  [20, 15, 5]])\n",
        "\n",
        "# Define the distance, cost and time data for each pair of zone and destination\n",
        "dist = np.array([[10, 15, 20],\n",
        "                 [12, 18, 24],\n",
        "                 [14, 21, 28],\n",
        "                 [16, 24, 32]]) # Distance in km\n",
        "cost = np.array([[5, 7.5, 10],\n",
        "                 [6, 9, 12],\n",
        "                 [7, 10.5, 14],\n",
        "                 [8, 12, 16]]) # Cost in $\n",
        "time = np.array([[20, 30, 40],\n",
        "                 [24, 36, 48],\n",
        "                 [28, 42, 56],\n",
        "                 [32, 48, 64]]) # Time in minutes"
      ],
      "metadata": {
        "id": "7zdxUdBhrHXS"
      },
      "execution_count": null,
      "outputs": []
    },
    {
      "cell_type": "code",
      "source": [
        "# Define the mode choice data for each pair of zone and destination\n",
        "mode = np.array([[\"Car\", \"Bus\", \"Train\"],\n",
        "                 [\"Car\", \"Bus\", \"Train\"],\n",
        "                 [\"Car\", \"Bus\", \"Train\"],\n",
        "                 [\"Car\", \"Bus\", \"Train\"]]) # Mode of transport"
      ],
      "metadata": {
        "id": "1GUlozl-rQKT"
      },
      "execution_count": null,
      "outputs": []
    },
    {
      "cell_type": "code",
      "source": [
        "# Define the coefficients for distance, cost and time\n",
        "beta_dist = -0.1 # Coefficient for distance\n",
        "beta_cost = -0.2 # Coefficient for cost\n",
        "beta_time = -0.3 # Coefficient for time"
      ],
      "metadata": {
        "id": "m0pe_Mo-rP_k"
      },
      "execution_count": null,
      "outputs": []
    },
    {
      "cell_type": "code",
      "source": [
        "# Calculate the total cost for each pair of zone and destination\n",
        "total_cost = beta_dist * dist + beta_cost * cost + beta_time * time\n",
        "\n",
        "# Calculate the probability of choosing each destination for each zone\n",
        "prob = np.exp(-total_cost) / np.sum(np.exp(-total_cost), axis=1, keepdims=True)"
      ],
      "metadata": {
        "id": "keSW6qIcrPID"
      },
      "execution_count": null,
      "outputs": []
    },
    {
      "cell_type": "code",
      "execution_count": null,
      "metadata": {
        "colab": {
          "base_uri": "https://localhost:8080/"
        },
        "id": "uhVyHM1DX7v2",
        "outputId": "a417294d-4ab0-414d-f417-06b7e1bed134"
      },
      "outputs": [
        {
          "output_type": "stream",
          "name": "stdout",
          "text": [
            "The probability matrix is:\n",
            "[[3.29320439e-04 1.79802867e-02 9.81690393e-01]\n",
            " [6.71713836e-05 8.16202286e-03 9.91770806e-01]\n",
            " [1.36236314e-05 3.68418971e-03 9.96302187e-01]\n",
            " [2.75618540e-06 1.65879651e-03 9.98338447e-01]]\n"
          ]
        }
      ],
      "source": [
        "# Print the results\n",
        "print(\"The probability matrix is:\")\n",
        "print(prob)"
      ]
    }
  ]
}